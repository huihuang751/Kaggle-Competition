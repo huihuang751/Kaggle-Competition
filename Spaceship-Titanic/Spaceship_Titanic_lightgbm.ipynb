{
 "cells": [
  {
   "cell_type": "code",
   "execution_count": null,
   "id": "5e451f11-8de3-45ca-90f3-c0d2fbcf349e",
   "metadata": {},
   "outputs": [],
   "source": [
    "import pandas as pd\n",
    "import numpy as np\n",
    "import matplotlib.pyplot as plt"
   ]
  },
  {
   "cell_type": "code",
   "execution_count": null,
   "id": "cfb0c060-4f68-4dba-b0ae-bdcff9b90be5",
   "metadata": {},
   "outputs": [],
   "source": [
    "train_df = pd.read_csv('./spaceship-titanic/train.csv')\n",
    "test_df = pd.read_csv('./spaceship-titanic/test.csv')\n",
    "print(train_df.shape)\n",
    "print(test_df.shape)"
   ]
  },
  {
   "cell_type": "code",
   "execution_count": null,
   "id": "7688cbce-e573-4702-924b-3d1a9e75427a",
   "metadata": {},
   "outputs": [],
   "source": [
    "def function(lastname, passengerid):\n",
    "    if lastname == 'Unknown' and passengerid != '01':\n",
    "        return True\n",
    "    else:\n",
    "        return False\n",
    "\n",
    "def setNaN(lastname, test):\n",
    "    if test == True:\n",
    "        return np.nan\n",
    "    else:\n",
    "        return lastname\n",
    "\n",
    "def MissingValue_1(dataframe):\n",
    "    # Handling simple missing value\n",
    "    dataframe['HomePlanet'].fillna(value = 'Earth', inplace = True)\n",
    "    dataframe['CryoSleep'].fillna(value = False, inplace = True)\n",
    "    dataframe['Destination'].fillna(value = 'TRAPPIST-1e', inplace = True)\n",
    "    dataframe['VIP'].fillna(value = False, inplace = True)\n",
    "    dataframe['RoomService'].fillna(value = 0, inplace = True)\n",
    "    dataframe['FoodCourt'].fillna(value = 0, inplace = True)\n",
    "    dataframe['ShoppingMall'].fillna(value = 0, inplace = True)\n",
    "    dataframe['Spa'].fillna(value = 0, inplace = True)\n",
    "    dataframe['VRDeck'].fillna(value = 0, inplace = True)\n",
    "    \n",
    "    dataframe['Age'].fillna(train_df['Age'].median(), inplace = True)\n",
    "    dataframe[['FirstName', 'LastName']] = train_df['Name'].str.split(' ', n = 1, expand = True)\n",
    "    dataframe[['PassengerId_1', 'PassengerId_2']] = train_df['PassengerId'].str.split('_', n = 1, expand = True)\n",
    "    \n",
    "    # Handling LastName missing value\n",
    "    dataframe['LastName'].fillna(value = 'Unknown', inplace = True)\n",
    "    dataframe['FirstName'].fillna(value = 'Unknown', inplace = True)\n",
    "    \n",
    "    dataframe['Test'] = dataframe.apply(lambda x: function(x.LastName, x.PassengerId_2), axis = 1)\n",
    "    dataframe['LastName'] = dataframe.apply(lambda x: setNaN(x.LastName, x.Test), axis = 1) # 滿足條件的LastName改設為NaN\n",
    "    dataframe['LastName'].fillna(method = 'ffill', inplace = True) # LastName為NaN的向前補值\n",
    "    del dataframe['Test']    \n",
    "    \n",
    "    return dataframe\n",
    "\n",
    "def Cabin_x_y(x, y):\n",
    "    if x == 'Unknown':\n",
    "        return y\n",
    "    else:\n",
    "        return x\n",
    "\n",
    "def gen_reference_df(dataframe):\n",
    "    dataframe['Cabin'].fillna(value = 'Unknown', inplace = True)\n",
    "    \n",
    "    train_modify_df = dataframe[dataframe['Cabin'] != 'Unknown']\n",
    "    PassengerId1_Cabin_df = train_modify_df[['PassengerId_1', 'Cabin']].value_counts().to_frame().reset_index()\n",
    "    PassengerId1_Cabin_df = PassengerId1_Cabin_df[['PassengerId_1', 'Cabin']]\n",
    "    return PassengerId1_Cabin_df\n",
    "\n",
    "def MissingValue_2(dataframe, PassengerId1_Cabin_df):\n",
    "    # Handling Cabin missing value\n",
    "    \n",
    "    dataframe = pd.merge(dataframe, PassengerId1_Cabin_df,how = 'left', left_on = 'PassengerId_1', right_on = 'PassengerId_1')\n",
    "    \n",
    "    dataframe['Cabin_x'] = dataframe.apply(lambda x: Cabin_x_y(x.Cabin_x, x.Cabin_y), axis = 1)\n",
    "    \n",
    "    del dataframe['Cabin_y']\n",
    "    dataframe.drop_duplicates(subset = ['PassengerId'], inplace = True)\n",
    "    dataframe = dataframe.rename(columns = {'Cabin_x': 'Cabin'})\n",
    "    \n",
    "    dataframe['Cabin'].fillna(value = 'Unknown', inplace = True)\n",
    "    dataframe[['Cabin_deck', 'Cabin_num', 'Cabin_side']] = dataframe['Cabin'].str.split('/', n = 2, expand = True)\n",
    "    dataframe['Cabin_deck'].fillna(value = 'Unknown', inplace = True)\n",
    "    dataframe['Cabin_num'].fillna(value = 'Unknown', inplace = True)\n",
    "    dataframe['Cabin_side'].fillna(value = 'Unknown', inplace = True)\n",
    "    \n",
    "    return dataframe\n",
    "\n",
    "def MissingValuePipe(dataframe):\n",
    "    dataframe = MissingValue_1(dataframe)\n",
    "    reference_df = gen_reference_df(dataframe)\n",
    "    dataframe = MissingValue_2(dataframe, reference_df)\n",
    "    \n",
    "    return dataframe"
   ]
  },
  {
   "cell_type": "code",
   "execution_count": null,
   "id": "bb9bf7c4-c768-485c-aa82-b28cfc7b7182",
   "metadata": {},
   "outputs": [],
   "source": [
    "train_df = MissingValuePipe(train_df)\n",
    "test_df = MissingValuePipe(test_df)"
   ]
  },
  {
   "cell_type": "markdown",
   "id": "544d2e2f-06c4-4464-ba8e-04c38572fd93",
   "metadata": {},
   "source": [
    "### Encoding"
   ]
  },
  {
   "cell_type": "code",
   "execution_count": null,
   "id": "4ffec94e-dfec-4c87-9e5b-601cf4ce319e",
   "metadata": {},
   "outputs": [],
   "source": [
    "from sklearn.preprocessing import LabelEncoder\n",
    "\n",
    "def LabelEncoder_method(dataframe):\n",
    "    cat_list = []\n",
    "    num_list = []\n",
    "\n",
    "    for col in dataframe.columns:\n",
    "        if dataframe[col].dtype == 'O':\n",
    "            cat_list.append(col)\n",
    "        elif dataframe[col].dtype == 'bool':\n",
    "            dataframe[col] = dataframe[col].astype('O')\n",
    "            cat_list.append(col)\n",
    "        else:\n",
    "            num_list.append(col)\n",
    "    \n",
    "    le = LabelEncoder()\n",
    "    for cat in cat_list:\n",
    "        dataframe[cat] = le.fit_transform(dataframe[cat])  \n",
    "    \n",
    "    return dataframe"
   ]
  },
  {
   "cell_type": "code",
   "execution_count": null,
   "id": "a5557dba-b786-4e81-ae9c-d269cfd1d46a",
   "metadata": {},
   "outputs": [],
   "source": [
    "train_df = LabelEncoder_method(train_df)\n",
    "test_df = LabelEncoder_method(test_df)"
   ]
  },
  {
   "cell_type": "markdown",
   "id": "9604265d-8794-4ac2-a307-713d24438ca5",
   "metadata": {},
   "source": [
    "### Feature Engineering"
   ]
  },
  {
   "cell_type": "markdown",
   "id": "802f6f85-941c-41a9-bca0-37dbfd30bb0b",
   "metadata": {},
   "source": [
    "### Feature Selection and split"
   ]
  },
  {
   "cell_type": "code",
   "execution_count": null,
   "id": "bbeb3d12-ac01-4e14-9c07-b005f2c95e40",
   "metadata": {},
   "outputs": [],
   "source": [
    "train_df.info()"
   ]
  },
  {
   "cell_type": "code",
   "execution_count": null,
   "id": "2353b271-0328-424b-a492-44d5e17b77fa",
   "metadata": {},
   "outputs": [],
   "source": [
    "drop_list = ['PassengerId','Cabin','Name','PassengerId_1','PassengerId_2','Transported']\n",
    "drop2_list = ['PassengerId','Cabin','Name','PassengerId_1','PassengerId_2']"
   ]
  },
  {
   "cell_type": "code",
   "execution_count": null,
   "id": "1f4849aa-1f1b-4a5e-8903-3a3399186d66",
   "metadata": {},
   "outputs": [],
   "source": [
    "X_train = train_df.drop(drop_list, 1)\n",
    "y_train = train_df.Transported"
   ]
  },
  {
   "cell_type": "code",
   "execution_count": null,
   "id": "d7ccb5e2-de31-41d8-9502-f6c728536621",
   "metadata": {},
   "outputs": [],
   "source": [
    "from sklearn.model_selection import train_test_split\n",
    "\n",
    "X_train, X_valid, y_train, y_valid = train_test_split(X_train, y_train, test_size = 0.33, random_state = 42)"
   ]
  },
  {
   "cell_type": "code",
   "execution_count": null,
   "id": "05a001ba-93ef-4c49-b077-e2e529ea884e",
   "metadata": {},
   "outputs": [],
   "source": [
    "test_df = test_df.drop(drop2_list, 1)"
   ]
  },
  {
   "cell_type": "markdown",
   "id": "3e9bcb44-a7a6-4209-bc99-0af11be73d82",
   "metadata": {},
   "source": [
    "### Model Building"
   ]
  },
  {
   "cell_type": "code",
   "execution_count": null,
   "id": "6034a6b3-3819-49f0-9d08-ec39709fc5fa",
   "metadata": {},
   "outputs": [],
   "source": [
    "from sklearn import preprocessing\n",
    "from sklearn.ensemble import RandomForestClassifier\n",
    "from sklearn import metrics\n",
    "from xgboost import XGBClassifier\n",
    "import optuna\n",
    "from xgboost import plot_importance"
   ]
  },
  {
   "cell_type": "code",
   "execution_count": null,
   "id": "2f5aacb1-5770-4627-8cd8-cfe3e2aba761",
   "metadata": {},
   "outputs": [],
   "source": [
    "def objective(trial, X_train = X_train, y_train = y_train):\n",
    "    params = {\n",
    "        \"silence\": 1,\n",
    "        \"objective\": \"binary:logistic\",\n",
    "        \"eval_metric\": \"auc\",\n",
    "#         'subsample': trial.suggest_float('subsample', 0.1, 0.9),\n",
    "        'colsample_bytree': trial.suggest_float('colsample_bytree', 0.1, 0.9),\n",
    "        'seed': 1000,\n",
    "        'nthread': 4,\n",
    "        \"booster\": trial.suggest_categorical(\"booster\", [\"gbtree\", \"gblinear\", \"dart\"]),\n",
    "        \"lambda\": trial.suggest_loguniform(\"lambda\", 1e-8, 1.0),\n",
    "        \"alpha\": trial.suggest_loguniform(\"alpha\", 1e-8, 1.0),\n",
    "    }\n",
    "    \n",
    "    if params[\"booster\"] == \"gbtree\" or params[\"booster\"] == \"dart\":\n",
    "        params[\"max_depth\"] = trial.suggest_int(\"max_depth\", 1, 9)\n",
    "        params[\"eta\"] = trial.suggest_loguniform(\"eta\", 1e-8, 1.0)\n",
    "        params[\"gamma\"] = trial.suggest_loguniform(\"gamma\", 1e-8, 0.1)\n",
    "        params[\"grow_policy\"] = trial.suggest_categorical(\"grow_policy\", [\"depthwise\", \"lossguide\"])\n",
    "    if params[\"booster\"] == \"dart\":\n",
    "        params[\"sample_type\"] = trial.suggest_categorical(\"sample_type\", [\"uniform\", \"weighted\"])\n",
    "        params[\"normalize_type\"] = trial.suggest_categorical(\"normalize_type\", [\"tree\", \"forest\"])\n",
    "        params[\"rate_drop\"] = trial.suggest_loguniform(\"rate_drop\", 1e-8, 1.0)\n",
    "        params[\"skip_drop\"] = trial.suggest_loguniform(\"skip_drop\", 1e-8, 1.0)\n",
    "    \n",
    "    xgbc = XGBClassifier(**params)\n",
    "    xgbc.fit(X_train, y_train, eval_set = [(X_valid, y_valid)], early_stopping_rounds=30)\n",
    "    y_hat = xgbc.predict(X_valid)\n",
    "    \n",
    "    return metrics.accuracy_score(y_valid, y_hat)"
   ]
  },
  {
   "cell_type": "code",
   "execution_count": null,
   "id": "02e831db-d669-4488-90c6-1238e5313fda",
   "metadata": {
    "tags": []
   },
   "outputs": [],
   "source": [
    "%%capture --no-display\n",
    "%%time\n",
    "import warnings\n",
    "warnings.filterwarnings('ignore')\n",
    "\n",
    "study = optuna.create_study(direction = 'maximize')\n",
    "study.optimize(objective, n_trials = 100)"
   ]
  },
  {
   "cell_type": "code",
   "execution_count": null,
   "id": "1870783b-85ed-458d-ab01-c300b901992b",
   "metadata": {},
   "outputs": [],
   "source": [
    "print('Number of finished trials:', len(study.trials))\n",
    "print('Best trial parameters:', study.best_trial.params)\n",
    "print('Best score:', study.best_value)"
   ]
  },
  {
   "cell_type": "code",
   "execution_count": null,
   "id": "3ef148cf-9a7e-4790-8127-62dce1e85974",
   "metadata": {},
   "outputs": [],
   "source": [
    "params = study.best_trial.params\n",
    "xgbc_opt = XGBClassifier(**params)\n",
    "xgbc_opt.fit(X_train, y_train)\n",
    "y_hat = xgbc_opt.predict(X_valid)\n",
    "\n",
    "accuracy = metrics.accuracy_score(y_valid, y_hat)\n",
    "print(accuracy)"
   ]
  },
  {
   "cell_type": "code",
   "execution_count": null,
   "id": "4d28cda0-a0a6-44a6-919c-09c394afcb8e",
   "metadata": {},
   "outputs": [],
   "source": [
    "y_predict = xgbc_opt.predict(test_df)"
   ]
  },
  {
   "cell_type": "code",
   "execution_count": null,
   "id": "9619644e-1fe0-47fb-bfcb-5000ce87015f",
   "metadata": {},
   "outputs": [],
   "source": [
    "submit_file = pd.read_csv('./spaceship-titanic/sample_submission.csv')\n",
    "submit_file['Transported'] = y_predict\n",
    "submit_file['Transported'] = submit_file['Transported'].replace({1:True, 0:False})\n",
    "submit_file.set_index('PassengerId', inplace = True)\n",
    "submit_file.head()"
   ]
  },
  {
   "cell_type": "code",
   "execution_count": null,
   "id": "a1824cd4-13b8-4db4-884f-5c4df7f713d4",
   "metadata": {},
   "outputs": [],
   "source": [
    "submit_file.to_csv('submission_xgboost.csv')"
   ]
  }
 ],
 "metadata": {
  "kernelspec": {
   "display_name": "Python 3.8.8 64-bit ('base': conda)",
   "language": "python",
   "name": "python388jvsc74a57bd040d3a090f54c6569ab1632332b64b2c03c39dcf918b08424e98f38b5ae0af88f"
  },
  "language_info": {
   "codemirror_mode": {
    "name": "ipython",
    "version": 3
   },
   "file_extension": ".py",
   "mimetype": "text/x-python",
   "name": "python",
   "nbconvert_exporter": "python",
   "pygments_lexer": "ipython3",
   "version": "3.8.8"
  }
 },
 "nbformat": 4,
 "nbformat_minor": 5
}
